{
 "cells": [
  {
   "cell_type": "markdown",
   "id": "f6c4233d",
   "metadata": {},
   "source": [
    "# 1. Demo downloading files from websites \n",
    "\n",
    "There are ```txt``` and ```pdf``` files on:\n",
    "\n",
    "```https://sandeepmj.github.io/scrape-example-page/pages.html```\n",
    "\n",
    "Do the following:\n",
    "\n",
    "1. Download all ```pdf``` files.\n",
    "2. Download all files at one time."
   ]
  },
  {
   "cell_type": "code",
   "execution_count": null,
   "id": "cf4f97e9",
   "metadata": {},
   "outputs": [],
   "source": [
    "## create new cells as necessary"
   ]
  },
  {
   "cell_type": "code",
   "execution_count": 12,
   "id": "2d0fefeb",
   "metadata": {},
   "outputs": [],
   "source": [
    "from bs4 import BeautifulSoup  ## scrape info from web pages\n",
    "import requests ## get web pages from server\n",
    "import time # time is required. we will use its sleep function\n",
    "from random import randrange # generate random numbers\n"
   ]
  },
  {
   "cell_type": "code",
   "execution_count": 17,
   "id": "71c0809d",
   "metadata": {},
   "outputs": [
    {
     "data": {
      "text/plain": [
       "200"
      ]
     },
     "execution_count": 17,
     "metadata": {},
     "output_type": "execute_result"
    }
   ],
   "source": [
    "url = \"https://sandeepmj.github.io/scrape-example-page/pages.html\"\n",
    "response = requests.get(url)\n",
    "response.status_code"
   ]
  },
  {
   "cell_type": "code",
   "execution_count": 18,
   "id": "46edf455",
   "metadata": {},
   "outputs": [],
   "source": [
    "soup = BeautifulSoup(response.text, \"html.parser\")\n"
   ]
  },
  {
   "cell_type": "code",
   "execution_count": 19,
   "id": "7766cd10",
   "metadata": {},
   "outputs": [
    {
     "data": {
      "text/plain": [
       "<ul class=\"pdfs downloadable\">\n",
       "<p class=\"pages\">Download this list of PDFs</p>\n",
       "<li>PDF Document <a href=\"files/pdf_1.pdf\">1</a> </li>\n",
       "<li>PDF Document <a href=\"files/pdf_2.pdf\">2</a></li>\n",
       "<li>PDF Document <a href=\"files/pdf_3.pdf\">3</a></li>\n",
       "<li>PDF Document <a href=\"files/pdf_4.pdf\">4</a></li>\n",
       "<li>PDF Document <a href=\"files/pdf_5.pdf\">5</a></li>\n",
       "<li>PDF Document <a href=\"files/pdf_6.pdf\">6</a></li>\n",
       "<li>PDF Document <a href=\"files/pdf_7.pdf\">7</a></li>\n",
       "<li>PDF Document <a href=\"files/pdf_8.pdf\">8</a></li>\n",
       "<li>PDF Document <a href=\"files/pdf_9.pdf\">9</a></li>\n",
       "<li>PDF Document <a href=\"files/pdf_10.pdf\">10</a></li>\n",
       "</ul>"
      ]
     },
     "execution_count": 19,
     "metadata": {},
     "output_type": "execute_result"
    }
   ],
   "source": [
    "pdf_holder = soup.find(\"ul\", class_= \"pdfs\")\n",
    "pdf_holder"
   ]
  },
  {
   "cell_type": "code",
   "execution_count": 21,
   "id": "20dae65b",
   "metadata": {},
   "outputs": [
    {
     "data": {
      "text/plain": [
       "bs4.element.Tag"
      ]
     },
     "execution_count": 21,
     "metadata": {},
     "output_type": "execute_result"
    }
   ],
   "source": [
    "type(pdf_holder)"
   ]
  },
  {
   "cell_type": "code",
   "execution_count": 22,
   "id": "b31ae5a1",
   "metadata": {},
   "outputs": [
    {
     "data": {
      "text/plain": [
       "[<a href=\"files/pdf_1.pdf\">1</a>,\n",
       " <a href=\"files/pdf_2.pdf\">2</a>,\n",
       " <a href=\"files/pdf_3.pdf\">3</a>,\n",
       " <a href=\"files/pdf_4.pdf\">4</a>,\n",
       " <a href=\"files/pdf_5.pdf\">5</a>,\n",
       " <a href=\"files/pdf_6.pdf\">6</a>,\n",
       " <a href=\"files/pdf_7.pdf\">7</a>,\n",
       " <a href=\"files/pdf_8.pdf\">8</a>,\n",
       " <a href=\"files/pdf_9.pdf\">9</a>,\n",
       " <a href=\"files/pdf_10.pdf\">10</a>]"
      ]
     },
     "execution_count": 22,
     "metadata": {},
     "output_type": "execute_result"
    }
   ],
   "source": [
    "\n",
    "\n",
    "links_a_tags = pdf_holder.find_all(\"a\")\n",
    "links_a_tags\n"
   ]
  },
  {
   "cell_type": "code",
   "execution_count": 24,
   "id": "f57797a0",
   "metadata": {},
   "outputs": [
    {
     "data": {
      "text/plain": [
       "['files/pdf_1.pdf',\n",
       " 'files/pdf_2.pdf',\n",
       " 'files/pdf_3.pdf',\n",
       " 'files/pdf_4.pdf',\n",
       " 'files/pdf_5.pdf',\n",
       " 'files/pdf_6.pdf',\n",
       " 'files/pdf_7.pdf',\n",
       " 'files/pdf_8.pdf',\n",
       " 'files/pdf_9.pdf',\n",
       " 'files/pdf_10.pdf']"
      ]
     },
     "execution_count": 24,
     "metadata": {},
     "output_type": "execute_result"
    }
   ],
   "source": [
    "links = []\n",
    "for a_tag in links_a_tags:\n",
    "    links.append(a_tag.get(\"href\"))\n",
    "\n",
    "links"
   ]
  },
  {
   "cell_type": "code",
   "execution_count": 25,
   "id": "dac129e8",
   "metadata": {},
   "outputs": [],
   "source": [
    "base_url = \"https://sandeepmj.github.io/scrape-example-page/\""
   ]
  },
  {
   "cell_type": "code",
   "execution_count": 26,
   "id": "351ac449",
   "metadata": {},
   "outputs": [
    {
     "data": {
      "text/plain": [
       "['https://sandeepmj.github.io/scrape-example-page/files/pdf_1.pdf',\n",
       " 'https://sandeepmj.github.io/scrape-example-page/files/pdf_2.pdf',\n",
       " 'https://sandeepmj.github.io/scrape-example-page/files/pdf_3.pdf',\n",
       " 'https://sandeepmj.github.io/scrape-example-page/files/pdf_4.pdf',\n",
       " 'https://sandeepmj.github.io/scrape-example-page/files/pdf_5.pdf',\n",
       " 'https://sandeepmj.github.io/scrape-example-page/files/pdf_6.pdf',\n",
       " 'https://sandeepmj.github.io/scrape-example-page/files/pdf_7.pdf',\n",
       " 'https://sandeepmj.github.io/scrape-example-page/files/pdf_8.pdf',\n",
       " 'https://sandeepmj.github.io/scrape-example-page/files/pdf_9.pdf',\n",
       " 'https://sandeepmj.github.io/scrape-example-page/files/pdf_10.pdf']"
      ]
     },
     "execution_count": 26,
     "metadata": {},
     "output_type": "execute_result"
    }
   ],
   "source": [
    "all_links = [base_url + link for link in links]\n",
    "all_links"
   ]
  },
  {
   "cell_type": "code",
   "execution_count": 27,
   "id": "cfc326f3",
   "metadata": {},
   "outputs": [],
   "source": [
    "import wget"
   ]
  },
  {
   "cell_type": "code",
   "execution_count": 28,
   "id": "e581288d",
   "metadata": {},
   "outputs": [
    {
     "data": {
      "text/plain": [
       "10"
      ]
     },
     "execution_count": 28,
     "metadata": {},
     "output_type": "execute_result"
    }
   ],
   "source": [
    "links_total = len(all_links)\n",
    "links_total"
   ]
  },
  {
   "cell_type": "code",
   "execution_count": 29,
   "id": "9def36af",
   "metadata": {},
   "outputs": [
    {
     "data": {
      "text/plain": [
       "['https://sandeepmj.github.io/scrape-example-page/files/pdf_1.pdf',\n",
       " 'https://sandeepmj.github.io/scrape-example-page/files/pdf_2.pdf',\n",
       " 'https://sandeepmj.github.io/scrape-example-page/files/pdf_3.pdf',\n",
       " 'https://sandeepmj.github.io/scrape-example-page/files/pdf_4.pdf',\n",
       " 'https://sandeepmj.github.io/scrape-example-page/files/pdf_5.pdf',\n",
       " 'https://sandeepmj.github.io/scrape-example-page/files/pdf_6.pdf',\n",
       " 'https://sandeepmj.github.io/scrape-example-page/files/pdf_7.pdf',\n",
       " 'https://sandeepmj.github.io/scrape-example-page/files/pdf_8.pdf',\n",
       " 'https://sandeepmj.github.io/scrape-example-page/files/pdf_9.pdf',\n",
       " 'https://sandeepmj.github.io/scrape-example-page/files/pdf_10.pdf']"
      ]
     },
     "execution_count": 29,
     "metadata": {},
     "output_type": "execute_result"
    }
   ],
   "source": [
    "all_links"
   ]
  },
  {
   "cell_type": "code",
   "execution_count": 30,
   "id": "89c1eb0c",
   "metadata": {},
   "outputs": [
    {
     "name": "stdout",
     "output_type": "stream",
     "text": [
      "Downloading Link1 of 10\n",
      "100% [..........................................................] 12812 / 12812Snoozing for 3 seconds next link\n",
      "Downloading Link2 of 10\n",
      "100% [..........................................................] 12897 / 12897Snoozing for 6 seconds next link\n",
      "Downloading Link3 of 10\n",
      "100% [..........................................................] 12908 / 12908Snoozing for 6 seconds next link\n",
      "Downloading Link4 of 10\n",
      "100% [..........................................................] 12843 / 12843Snoozing for 4 seconds next link\n",
      "Downloading Link5 of 10\n",
      "100% [..........................................................] 12881 / 12881Snoozing for 6 seconds next link\n",
      "Downloading Link6 of 10\n",
      "100% [..........................................................] 12906 / 12906Snoozing for 6 seconds next link\n",
      "Downloading Link7 of 10\n",
      "100% [..........................................................] 12816 / 12816Snoozing for 3 seconds next link\n",
      "Downloading Link8 of 10\n",
      "100% [..........................................................] 12921 / 12921Snoozing for 5 seconds next link\n",
      "Downloading Link9 of 10\n",
      "100% [..........................................................] 12901 / 12901Snoozing for 5 seconds next link\n",
      "Downloading Link10 of 10\n",
      "100% [..........................................................] 13049 / 13049Snoozing for 3 seconds next link\n"
     ]
    }
   ],
   "source": [
    "links_total = len(all_links)\n",
    "link_count = 1\n",
    "\n",
    "for link in all_links:\n",
    "    print(f\"Downloading Link{link_count} of {links_total}\")\n",
    "    link_count += 1\n",
    "    wget.download(link)\n",
    "    snoozer = randrange(3,7)\n",
    "    print(f\"Snoozing for {snoozer} seconds next link\")\n",
    "    time.sleep(snoozer)"
   ]
  },
  {
   "cell_type": "markdown",
   "id": "c5de875e",
   "metadata": {},
   "source": [
    "# 2. Universal conversion function\n",
    "Rewrite your function from last week so it can do both:\n",
    "\n",
    "- take individual string values like ```$12.24267```, ```10,201``` and ```$12,501``` and convert them into floating point numbers like 12.24, 10201.0 and 12501.0\n",
    "\n",
    "- take string values in lists and convert them to floating point numbers. (reminder: you use a zip function).\n",
    "\n",
    "Test it on the numbers above and in this list:"
   ]
  },
  {
   "cell_type": "code",
   "execution_count": 31,
   "id": "e6abb2f6",
   "metadata": {},
   "outputs": [],
   "source": [
    "## list of string numbers\n",
    "string_numbers = [\"$12.24267\", \"10,201\", \"$12,501\", \"42,901\", \"$902,091\"]"
   ]
  },
  {
   "cell_type": "code",
   "execution_count": 32,
   "id": "87a2d14e",
   "metadata": {},
   "outputs": [],
   "source": [
    "def string2float(a_string):\n",
    "    a_string = a_string.replace(\"$\", \"\").replace(\",\", \"\") \n",
    "    return round(float(a_string), 2)"
   ]
  },
  {
   "cell_type": "code",
   "execution_count": 33,
   "id": "79f324c8",
   "metadata": {},
   "outputs": [
    {
     "data": {
      "text/plain": [
       "12.24"
      ]
     },
     "execution_count": 33,
     "metadata": {},
     "output_type": "execute_result"
    }
   ],
   "source": [
    "string2float (\"$12.24267\")"
   ]
  },
  {
   "cell_type": "code",
   "execution_count": null,
   "id": "09720679",
   "metadata": {},
   "outputs": [],
   "source": [
    "def string2float(a_string):\n",
    "    a_string = a_string.replace(\"$\", \"\").replace(\",\", \"\") \n",
    "    return round(float(a_string), 2)\n",
    "\n"
   ]
  },
  {
   "cell_type": "code",
   "execution_count": null,
   "id": "790eb88b",
   "metadata": {},
   "outputs": [],
   "source": []
  },
  {
   "cell_type": "code",
   "execution_count": null,
   "id": "9fe7ae42",
   "metadata": {},
   "outputs": [],
   "source": []
  },
  {
   "cell_type": "code",
   "execution_count": null,
   "id": "4a55f3cd",
   "metadata": {},
   "outputs": [],
   "source": []
  },
  {
   "cell_type": "code",
   "execution_count": 36,
   "id": "364b1a3f",
   "metadata": {},
   "outputs": [],
   "source": [
    "strings = []\n",
    "\n",
    "def string2float(a_string, a_string2, a_string3, a_string4, a_string5 ):\n",
    "    a_string = a_string.replace(\"$\", \"\").replace(\",\", \"\") \n",
    "    return round(float(a_string2, a_string3, a_string4, a_string5), 2)\n",
    "    #strings.append(round(float(a_string, a_string2, a_string3, a_string4, a_string5), 2))\n",
    "    #for string in zip (string1, string2, string3, string4, string5):\n",
    "      \n",
    "        \n",
    "        \n",
    "\n",
    "#life_fl.append(lifeform.get_text())\n"
   ]
  },
  {
   "cell_type": "code",
   "execution_count": 38,
   "id": "2f42bdd2",
   "metadata": {},
   "outputs": [
    {
     "ename": "TypeError",
     "evalue": "'function' object is not subscriptable",
     "output_type": "error",
     "traceback": [
      "\u001b[0;31m---------------------------------------------------------------------------\u001b[0m",
      "\u001b[0;31mTypeError\u001b[0m                                 Traceback (most recent call last)",
      "\u001b[0;32m/var/folders/51/zfcz7v952f74skxnnh3c0g8m0000gn/T/ipykernel_12328/183291429.py\u001b[0m in \u001b[0;36m<module>\u001b[0;34m\u001b[0m\n\u001b[0;32m----> 1\u001b[0;31m \u001b[0mstring2float\u001b[0m \u001b[0;34m[\u001b[0m\u001b[0;34m\"$12.24267\"\u001b[0m\u001b[0;34m,\u001b[0m \u001b[0;34m\"10,201\"\u001b[0m\u001b[0;34m,\u001b[0m \u001b[0;34m\"$12,501\"\u001b[0m\u001b[0;34m,\u001b[0m \u001b[0;34m\"42,901\"\u001b[0m\u001b[0;34m,\u001b[0m \u001b[0;34m\"$902,091\"\u001b[0m\u001b[0;34m]\u001b[0m\u001b[0;34m\u001b[0m\u001b[0;34m\u001b[0m\u001b[0m\n\u001b[0m",
      "\u001b[0;31mTypeError\u001b[0m: 'function' object is not subscriptable"
     ]
    }
   ],
   "source": [
    "string2float [\"$12.24267\", \"10,201\", \"$12,501\", \"42,901\", \"$902,091\"]"
   ]
  },
  {
   "cell_type": "code",
   "execution_count": null,
   "id": "31aca284",
   "metadata": {},
   "outputs": [],
   "source": [
    "if b > a:\n",
    "  print(\"b is greater than a\")"
   ]
  },
  {
   "cell_type": "code",
   "execution_count": null,
   "id": "33d0df83",
   "metadata": {},
   "outputs": [],
   "source": [
    "life_list = []\n",
    "\n",
    "for (life, cost, url) in zip(life_lc, cost_lc, links_lc):\n",
    "    life_list.append({\n",
    "        \"product\": life,\n",
    "        \"cost\": cost,\n",
    "        \"url\": url\n",
    "    })\n",
    "\n",
    "life_list"
   ]
  }
 ],
 "metadata": {
  "kernelspec": {
   "display_name": "Python 3 (ipykernel)",
   "language": "python",
   "name": "python3"
  },
  "language_info": {
   "codemirror_mode": {
    "name": "ipython",
    "version": 3
   },
   "file_extension": ".py",
   "mimetype": "text/x-python",
   "name": "python",
   "nbconvert_exporter": "python",
   "pygments_lexer": "ipython3",
   "version": "3.9.7"
  }
 },
 "nbformat": 4,
 "nbformat_minor": 5
}
